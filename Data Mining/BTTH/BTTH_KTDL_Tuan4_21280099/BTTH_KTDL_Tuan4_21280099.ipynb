{
 "cells": [
  {
   "cell_type": "markdown",
   "metadata": {},
   "source": [
    "<div align='left'><font size=\"6\" color=\"#FFA500\">[LAB 04] KHAI THÁC MẪU KẾT HỢP </font></div>"
   ]
  },
  {
   "cell_type": "markdown",
   "metadata": {},
   "source": [
    "\n",
    "> Sinh viên: Nguyễn Công Hoài Nam <br>\n",
    "  Mã số sinh viên: 21280099"
   ]
  },
  {
   "cell_type": "markdown",
   "metadata": {},
   "source": [
    "### Import library and load data"
   ]
  },
  {
   "cell_type": "code",
   "execution_count": 38,
   "metadata": {},
   "outputs": [
    {
     "data": {
      "text/html": [
       "<div>\n",
       "<style scoped>\n",
       "    .dataframe tbody tr th:only-of-type {\n",
       "        vertical-align: middle;\n",
       "    }\n",
       "\n",
       "    .dataframe tbody tr th {\n",
       "        vertical-align: top;\n",
       "    }\n",
       "\n",
       "    .dataframe thead th {\n",
       "        text-align: right;\n",
       "    }\n",
       "</style>\n",
       "<table border=\"1\" class=\"dataframe\">\n",
       "  <thead>\n",
       "    <tr style=\"text-align: right;\">\n",
       "      <th></th>\n",
       "      <th>0</th>\n",
       "      <th>1</th>\n",
       "      <th>2</th>\n",
       "      <th>3</th>\n",
       "      <th>4</th>\n",
       "      <th>5</th>\n",
       "    </tr>\n",
       "  </thead>\n",
       "  <tbody>\n",
       "    <tr>\n",
       "      <th>0</th>\n",
       "      <td>Wine</td>\n",
       "      <td>Chips</td>\n",
       "      <td>Bread</td>\n",
       "      <td>Butter</td>\n",
       "      <td>Milk</td>\n",
       "      <td>Apple</td>\n",
       "    </tr>\n",
       "    <tr>\n",
       "      <th>1</th>\n",
       "      <td>Wine</td>\n",
       "      <td>NaN</td>\n",
       "      <td>Bread</td>\n",
       "      <td>Butter</td>\n",
       "      <td>Milk</td>\n",
       "      <td>NaN</td>\n",
       "    </tr>\n",
       "    <tr>\n",
       "      <th>2</th>\n",
       "      <td>NaN</td>\n",
       "      <td>NaN</td>\n",
       "      <td>Bread</td>\n",
       "      <td>Butter</td>\n",
       "      <td>Milk</td>\n",
       "      <td>NaN</td>\n",
       "    </tr>\n",
       "    <tr>\n",
       "      <th>3</th>\n",
       "      <td>NaN</td>\n",
       "      <td>Chips</td>\n",
       "      <td>NaN</td>\n",
       "      <td>NaN</td>\n",
       "      <td>NaN</td>\n",
       "      <td>Apple</td>\n",
       "    </tr>\n",
       "    <tr>\n",
       "      <th>4</th>\n",
       "      <td>Wine</td>\n",
       "      <td>Chips</td>\n",
       "      <td>Bread</td>\n",
       "      <td>Butter</td>\n",
       "      <td>Milk</td>\n",
       "      <td>Apple</td>\n",
       "    </tr>\n",
       "    <tr>\n",
       "      <th>5</th>\n",
       "      <td>Wine</td>\n",
       "      <td>Chips</td>\n",
       "      <td>NaN</td>\n",
       "      <td>NaN</td>\n",
       "      <td>Milk</td>\n",
       "      <td>NaN</td>\n",
       "    </tr>\n",
       "    <tr>\n",
       "      <th>6</th>\n",
       "      <td>Wine</td>\n",
       "      <td>Chips</td>\n",
       "      <td>Bread</td>\n",
       "      <td>Butter</td>\n",
       "      <td>NaN</td>\n",
       "      <td>Apple</td>\n",
       "    </tr>\n",
       "    <tr>\n",
       "      <th>7</th>\n",
       "      <td>Wine</td>\n",
       "      <td>Chips</td>\n",
       "      <td>NaN</td>\n",
       "      <td>NaN</td>\n",
       "      <td>Milk</td>\n",
       "      <td>NaN</td>\n",
       "    </tr>\n",
       "    <tr>\n",
       "      <th>8</th>\n",
       "      <td>Wine</td>\n",
       "      <td>NaN</td>\n",
       "      <td>Bread</td>\n",
       "      <td>NaN</td>\n",
       "      <td>NaN</td>\n",
       "      <td>Apple</td>\n",
       "    </tr>\n",
       "    <tr>\n",
       "      <th>9</th>\n",
       "      <td>Wine</td>\n",
       "      <td>NaN</td>\n",
       "      <td>Bread</td>\n",
       "      <td>Butter</td>\n",
       "      <td>Milk</td>\n",
       "      <td>NaN</td>\n",
       "    </tr>\n",
       "    <tr>\n",
       "      <th>10</th>\n",
       "      <td>NaN</td>\n",
       "      <td>Chips</td>\n",
       "      <td>Bread</td>\n",
       "      <td>Butter</td>\n",
       "      <td>NaN</td>\n",
       "      <td>Apple</td>\n",
       "    </tr>\n",
       "    <tr>\n",
       "      <th>11</th>\n",
       "      <td>Wine</td>\n",
       "      <td>NaN</td>\n",
       "      <td>NaN</td>\n",
       "      <td>Butter</td>\n",
       "      <td>Milk</td>\n",
       "      <td>Apple</td>\n",
       "    </tr>\n",
       "    <tr>\n",
       "      <th>12</th>\n",
       "      <td>Wine</td>\n",
       "      <td>Chips</td>\n",
       "      <td>Bread</td>\n",
       "      <td>Butter</td>\n",
       "      <td>Milk</td>\n",
       "      <td>NaN</td>\n",
       "    </tr>\n",
       "    <tr>\n",
       "      <th>13</th>\n",
       "      <td>Wine</td>\n",
       "      <td>NaN</td>\n",
       "      <td>Bread</td>\n",
       "      <td>NaN</td>\n",
       "      <td>Milk</td>\n",
       "      <td>Apple</td>\n",
       "    </tr>\n",
       "    <tr>\n",
       "      <th>14</th>\n",
       "      <td>Wine</td>\n",
       "      <td>NaN</td>\n",
       "      <td>Bread</td>\n",
       "      <td>Butter</td>\n",
       "      <td>Milk</td>\n",
       "      <td>Apple</td>\n",
       "    </tr>\n",
       "    <tr>\n",
       "      <th>15</th>\n",
       "      <td>Wine</td>\n",
       "      <td>Chips</td>\n",
       "      <td>Bread</td>\n",
       "      <td>Butter</td>\n",
       "      <td>Milk</td>\n",
       "      <td>Apple</td>\n",
       "    </tr>\n",
       "    <tr>\n",
       "      <th>16</th>\n",
       "      <td>NaN</td>\n",
       "      <td>Chips</td>\n",
       "      <td>Bread</td>\n",
       "      <td>Butter</td>\n",
       "      <td>Milk</td>\n",
       "      <td>Apple</td>\n",
       "    </tr>\n",
       "    <tr>\n",
       "      <th>17</th>\n",
       "      <td>NaN</td>\n",
       "      <td>Chips</td>\n",
       "      <td>NaN</td>\n",
       "      <td>Butter</td>\n",
       "      <td>Milk</td>\n",
       "      <td>Apple</td>\n",
       "    </tr>\n",
       "    <tr>\n",
       "      <th>18</th>\n",
       "      <td>Wine</td>\n",
       "      <td>Chips</td>\n",
       "      <td>Bread</td>\n",
       "      <td>Butter</td>\n",
       "      <td>Milk</td>\n",
       "      <td>Apple</td>\n",
       "    </tr>\n",
       "    <tr>\n",
       "      <th>19</th>\n",
       "      <td>Wine</td>\n",
       "      <td>NaN</td>\n",
       "      <td>Bread</td>\n",
       "      <td>Butter</td>\n",
       "      <td>Milk</td>\n",
       "      <td>Apple</td>\n",
       "    </tr>\n",
       "    <tr>\n",
       "      <th>20</th>\n",
       "      <td>Wine</td>\n",
       "      <td>Chips</td>\n",
       "      <td>Bread</td>\n",
       "      <td>NaN</td>\n",
       "      <td>Milk</td>\n",
       "      <td>Apple</td>\n",
       "    </tr>\n",
       "    <tr>\n",
       "      <th>21</th>\n",
       "      <td>NaN</td>\n",
       "      <td>Chips</td>\n",
       "      <td>NaN</td>\n",
       "      <td>NaN</td>\n",
       "      <td>NaN</td>\n",
       "      <td>NaN</td>\n",
       "    </tr>\n",
       "  </tbody>\n",
       "</table>\n",
       "</div>"
      ],
      "text/plain": [
       "       0      1      2       3     4      5\n",
       "0   Wine  Chips  Bread  Butter  Milk  Apple\n",
       "1   Wine    NaN  Bread  Butter  Milk    NaN\n",
       "2    NaN    NaN  Bread  Butter  Milk    NaN\n",
       "3    NaN  Chips    NaN     NaN   NaN  Apple\n",
       "4   Wine  Chips  Bread  Butter  Milk  Apple\n",
       "5   Wine  Chips    NaN     NaN  Milk    NaN\n",
       "6   Wine  Chips  Bread  Butter   NaN  Apple\n",
       "7   Wine  Chips    NaN     NaN  Milk    NaN\n",
       "8   Wine    NaN  Bread     NaN   NaN  Apple\n",
       "9   Wine    NaN  Bread  Butter  Milk    NaN\n",
       "10   NaN  Chips  Bread  Butter   NaN  Apple\n",
       "11  Wine    NaN    NaN  Butter  Milk  Apple\n",
       "12  Wine  Chips  Bread  Butter  Milk    NaN\n",
       "13  Wine    NaN  Bread     NaN  Milk  Apple\n",
       "14  Wine    NaN  Bread  Butter  Milk  Apple\n",
       "15  Wine  Chips  Bread  Butter  Milk  Apple\n",
       "16   NaN  Chips  Bread  Butter  Milk  Apple\n",
       "17   NaN  Chips    NaN  Butter  Milk  Apple\n",
       "18  Wine  Chips  Bread  Butter  Milk  Apple\n",
       "19  Wine    NaN  Bread  Butter  Milk  Apple\n",
       "20  Wine  Chips  Bread     NaN  Milk  Apple\n",
       "21   NaN  Chips    NaN     NaN   NaN    NaN"
      ]
     },
     "execution_count": 38,
     "metadata": {},
     "output_type": "execute_result"
    }
   ],
   "source": [
    "import numpy as np\n",
    "import pandas as pd\n",
    "from mlxtend.frequent_patterns import apriori, association_rules\n",
    "from mlxtend.preprocessing import TransactionEncoder\n",
    "\n",
    "#Load data\n",
    "df = pd.read_csv('data.csv', header = None)\n",
    "df"
   ]
  },
  {
   "cell_type": "markdown",
   "metadata": {},
   "source": [
    "Chuyển df về dạng list"
   ]
  },
  {
   "cell_type": "code",
   "execution_count": 39,
   "metadata": {},
   "outputs": [
    {
     "data": {
      "text/plain": [
       "[['Wine', 'Chips', 'Bread', 'Butter', 'Milk', 'Apple'],\n",
       " ['Wine', 'nan', 'Bread', 'Butter', 'Milk', 'nan'],\n",
       " ['nan', 'nan', 'Bread', 'Butter', 'Milk', 'nan'],\n",
       " ['nan', 'Chips', 'nan', 'nan', 'nan', 'Apple'],\n",
       " ['Wine', 'Chips', 'Bread', 'Butter', 'Milk', 'Apple'],\n",
       " ['Wine', 'Chips', 'nan', 'nan', 'Milk', 'nan'],\n",
       " ['Wine', 'Chips', 'Bread', 'Butter', 'nan', 'Apple'],\n",
       " ['Wine', 'Chips', 'nan', 'nan', 'Milk', 'nan'],\n",
       " ['Wine', 'nan', 'Bread', 'nan', 'nan', 'Apple'],\n",
       " ['Wine', 'nan', 'Bread', 'Butter', 'Milk', 'nan'],\n",
       " ['nan', 'Chips', 'Bread', 'Butter', 'nan', 'Apple'],\n",
       " ['Wine', 'nan', 'nan', 'Butter', 'Milk', 'Apple'],\n",
       " ['Wine', 'Chips', 'Bread', 'Butter', 'Milk', 'nan'],\n",
       " ['Wine', 'nan', 'Bread', 'nan', 'Milk', 'Apple'],\n",
       " ['Wine', 'nan', 'Bread', 'Butter', 'Milk', 'Apple'],\n",
       " ['Wine', 'Chips', 'Bread', 'Butter', 'Milk', 'Apple'],\n",
       " ['nan', 'Chips', 'Bread', 'Butter', 'Milk', 'Apple'],\n",
       " ['nan', 'Chips', 'nan', 'Butter', 'Milk', 'Apple'],\n",
       " ['Wine', 'Chips', 'Bread', 'Butter', 'Milk', 'Apple'],\n",
       " ['Wine', 'nan', 'Bread', 'Butter', 'Milk', 'Apple'],\n",
       " ['Wine', 'Chips', 'Bread', 'nan', 'Milk', 'Apple'],\n",
       " ['nan', 'Chips', 'nan', 'nan', 'nan', 'nan']]"
      ]
     },
     "execution_count": 39,
     "metadata": {},
     "output_type": "execute_result"
    }
   ],
   "source": [
    "records = []\n",
    "for i in range(0,df.shape[0]):\n",
    "    records.append([str(df.values[i,j]) for j in range (0, df.shape[1])])\n",
    "records"
   ]
  },
  {
   "cell_type": "markdown",
   "metadata": {},
   "source": [
    "Trong list có các giá trị `'nan'` đây không phải là hạng mục của giao dịch mà là giá trị `NaN` khi chuyển sang dạng chuỗi"
   ]
  },
  {
   "cell_type": "code",
   "execution_count": 40,
   "metadata": {},
   "outputs": [
    {
     "data": {
      "text/plain": [
       "[['Wine', 'Chips', 'Bread', 'Butter', 'Milk', 'Apple'],\n",
       " ['Wine', 'Bread', 'Butter', 'Milk'],\n",
       " ['Bread', 'Butter', 'Milk'],\n",
       " ['Chips', 'Apple'],\n",
       " ['Wine', 'Chips', 'Bread', 'Butter', 'Milk', 'Apple'],\n",
       " ['Wine', 'Chips', 'Milk'],\n",
       " ['Wine', 'Chips', 'Bread', 'Butter', 'Apple'],\n",
       " ['Wine', 'Chips', 'Milk'],\n",
       " ['Wine', 'Bread', 'Apple'],\n",
       " ['Wine', 'Bread', 'Butter', 'Milk'],\n",
       " ['Chips', 'Bread', 'Butter', 'Apple'],\n",
       " ['Wine', 'Butter', 'Milk', 'Apple'],\n",
       " ['Wine', 'Chips', 'Bread', 'Butter', 'Milk'],\n",
       " ['Wine', 'Bread', 'Milk', 'Apple'],\n",
       " ['Wine', 'Bread', 'Butter', 'Milk', 'Apple'],\n",
       " ['Wine', 'Chips', 'Bread', 'Butter', 'Milk', 'Apple'],\n",
       " ['Chips', 'Bread', 'Butter', 'Milk', 'Apple'],\n",
       " ['Chips', 'Butter', 'Milk', 'Apple'],\n",
       " ['Wine', 'Chips', 'Bread', 'Butter', 'Milk', 'Apple'],\n",
       " ['Wine', 'Bread', 'Butter', 'Milk', 'Apple'],\n",
       " ['Wine', 'Chips', 'Bread', 'Milk', 'Apple'],\n",
       " ['Chips']]"
      ]
     },
     "execution_count": 40,
     "metadata": {},
     "output_type": "execute_result"
    }
   ],
   "source": [
    "# Ta loại bỏ nó\n",
    "records = [[item for item in i if item != 'nan'] for i in records]\n",
    "records"
   ]
  },
  {
   "cell_type": "markdown",
   "metadata": {},
   "source": [
    "### Thuật toán `Apriori` từ thư viện"
   ]
  },
  {
   "cell_type": "markdown",
   "metadata": {},
   "source": [
    "Để áp dụng được thư viện ta cần mã hoá nó thành dạng `transaction`"
   ]
  },
  {
   "cell_type": "code",
   "execution_count": 41,
   "metadata": {},
   "outputs": [
    {
     "data": {
      "text/html": [
       "<div>\n",
       "<style scoped>\n",
       "    .dataframe tbody tr th:only-of-type {\n",
       "        vertical-align: middle;\n",
       "    }\n",
       "\n",
       "    .dataframe tbody tr th {\n",
       "        vertical-align: top;\n",
       "    }\n",
       "\n",
       "    .dataframe thead th {\n",
       "        text-align: right;\n",
       "    }\n",
       "</style>\n",
       "<table border=\"1\" class=\"dataframe\">\n",
       "  <thead>\n",
       "    <tr style=\"text-align: right;\">\n",
       "      <th></th>\n",
       "      <th>Apple</th>\n",
       "      <th>Bread</th>\n",
       "      <th>Butter</th>\n",
       "      <th>Chips</th>\n",
       "      <th>Milk</th>\n",
       "      <th>Wine</th>\n",
       "    </tr>\n",
       "  </thead>\n",
       "  <tbody>\n",
       "    <tr>\n",
       "      <th>0</th>\n",
       "      <td>True</td>\n",
       "      <td>True</td>\n",
       "      <td>True</td>\n",
       "      <td>True</td>\n",
       "      <td>True</td>\n",
       "      <td>True</td>\n",
       "    </tr>\n",
       "    <tr>\n",
       "      <th>1</th>\n",
       "      <td>False</td>\n",
       "      <td>True</td>\n",
       "      <td>True</td>\n",
       "      <td>False</td>\n",
       "      <td>True</td>\n",
       "      <td>True</td>\n",
       "    </tr>\n",
       "    <tr>\n",
       "      <th>2</th>\n",
       "      <td>False</td>\n",
       "      <td>True</td>\n",
       "      <td>True</td>\n",
       "      <td>False</td>\n",
       "      <td>True</td>\n",
       "      <td>False</td>\n",
       "    </tr>\n",
       "    <tr>\n",
       "      <th>3</th>\n",
       "      <td>True</td>\n",
       "      <td>False</td>\n",
       "      <td>False</td>\n",
       "      <td>True</td>\n",
       "      <td>False</td>\n",
       "      <td>False</td>\n",
       "    </tr>\n",
       "    <tr>\n",
       "      <th>4</th>\n",
       "      <td>True</td>\n",
       "      <td>True</td>\n",
       "      <td>True</td>\n",
       "      <td>True</td>\n",
       "      <td>True</td>\n",
       "      <td>True</td>\n",
       "    </tr>\n",
       "    <tr>\n",
       "      <th>5</th>\n",
       "      <td>False</td>\n",
       "      <td>False</td>\n",
       "      <td>False</td>\n",
       "      <td>True</td>\n",
       "      <td>True</td>\n",
       "      <td>True</td>\n",
       "    </tr>\n",
       "    <tr>\n",
       "      <th>6</th>\n",
       "      <td>True</td>\n",
       "      <td>True</td>\n",
       "      <td>True</td>\n",
       "      <td>True</td>\n",
       "      <td>False</td>\n",
       "      <td>True</td>\n",
       "    </tr>\n",
       "    <tr>\n",
       "      <th>7</th>\n",
       "      <td>False</td>\n",
       "      <td>False</td>\n",
       "      <td>False</td>\n",
       "      <td>True</td>\n",
       "      <td>True</td>\n",
       "      <td>True</td>\n",
       "    </tr>\n",
       "    <tr>\n",
       "      <th>8</th>\n",
       "      <td>True</td>\n",
       "      <td>True</td>\n",
       "      <td>False</td>\n",
       "      <td>False</td>\n",
       "      <td>False</td>\n",
       "      <td>True</td>\n",
       "    </tr>\n",
       "    <tr>\n",
       "      <th>9</th>\n",
       "      <td>False</td>\n",
       "      <td>True</td>\n",
       "      <td>True</td>\n",
       "      <td>False</td>\n",
       "      <td>True</td>\n",
       "      <td>True</td>\n",
       "    </tr>\n",
       "    <tr>\n",
       "      <th>10</th>\n",
       "      <td>True</td>\n",
       "      <td>True</td>\n",
       "      <td>True</td>\n",
       "      <td>True</td>\n",
       "      <td>False</td>\n",
       "      <td>False</td>\n",
       "    </tr>\n",
       "    <tr>\n",
       "      <th>11</th>\n",
       "      <td>True</td>\n",
       "      <td>False</td>\n",
       "      <td>True</td>\n",
       "      <td>False</td>\n",
       "      <td>True</td>\n",
       "      <td>True</td>\n",
       "    </tr>\n",
       "    <tr>\n",
       "      <th>12</th>\n",
       "      <td>False</td>\n",
       "      <td>True</td>\n",
       "      <td>True</td>\n",
       "      <td>True</td>\n",
       "      <td>True</td>\n",
       "      <td>True</td>\n",
       "    </tr>\n",
       "    <tr>\n",
       "      <th>13</th>\n",
       "      <td>True</td>\n",
       "      <td>True</td>\n",
       "      <td>False</td>\n",
       "      <td>False</td>\n",
       "      <td>True</td>\n",
       "      <td>True</td>\n",
       "    </tr>\n",
       "    <tr>\n",
       "      <th>14</th>\n",
       "      <td>True</td>\n",
       "      <td>True</td>\n",
       "      <td>True</td>\n",
       "      <td>False</td>\n",
       "      <td>True</td>\n",
       "      <td>True</td>\n",
       "    </tr>\n",
       "    <tr>\n",
       "      <th>15</th>\n",
       "      <td>True</td>\n",
       "      <td>True</td>\n",
       "      <td>True</td>\n",
       "      <td>True</td>\n",
       "      <td>True</td>\n",
       "      <td>True</td>\n",
       "    </tr>\n",
       "    <tr>\n",
       "      <th>16</th>\n",
       "      <td>True</td>\n",
       "      <td>True</td>\n",
       "      <td>True</td>\n",
       "      <td>True</td>\n",
       "      <td>True</td>\n",
       "      <td>False</td>\n",
       "    </tr>\n",
       "    <tr>\n",
       "      <th>17</th>\n",
       "      <td>True</td>\n",
       "      <td>False</td>\n",
       "      <td>True</td>\n",
       "      <td>True</td>\n",
       "      <td>True</td>\n",
       "      <td>False</td>\n",
       "    </tr>\n",
       "    <tr>\n",
       "      <th>18</th>\n",
       "      <td>True</td>\n",
       "      <td>True</td>\n",
       "      <td>True</td>\n",
       "      <td>True</td>\n",
       "      <td>True</td>\n",
       "      <td>True</td>\n",
       "    </tr>\n",
       "    <tr>\n",
       "      <th>19</th>\n",
       "      <td>True</td>\n",
       "      <td>True</td>\n",
       "      <td>True</td>\n",
       "      <td>False</td>\n",
       "      <td>True</td>\n",
       "      <td>True</td>\n",
       "    </tr>\n",
       "    <tr>\n",
       "      <th>20</th>\n",
       "      <td>True</td>\n",
       "      <td>True</td>\n",
       "      <td>False</td>\n",
       "      <td>True</td>\n",
       "      <td>True</td>\n",
       "      <td>True</td>\n",
       "    </tr>\n",
       "    <tr>\n",
       "      <th>21</th>\n",
       "      <td>False</td>\n",
       "      <td>False</td>\n",
       "      <td>False</td>\n",
       "      <td>True</td>\n",
       "      <td>False</td>\n",
       "      <td>False</td>\n",
       "    </tr>\n",
       "  </tbody>\n",
       "</table>\n",
       "</div>"
      ],
      "text/plain": [
       "    Apple  Bread  Butter  Chips   Milk   Wine\n",
       "0    True   True    True   True   True   True\n",
       "1   False   True    True  False   True   True\n",
       "2   False   True    True  False   True  False\n",
       "3    True  False   False   True  False  False\n",
       "4    True   True    True   True   True   True\n",
       "5   False  False   False   True   True   True\n",
       "6    True   True    True   True  False   True\n",
       "7   False  False   False   True   True   True\n",
       "8    True   True   False  False  False   True\n",
       "9   False   True    True  False   True   True\n",
       "10   True   True    True   True  False  False\n",
       "11   True  False    True  False   True   True\n",
       "12  False   True    True   True   True   True\n",
       "13   True   True   False  False   True   True\n",
       "14   True   True    True  False   True   True\n",
       "15   True   True    True   True   True   True\n",
       "16   True   True    True   True   True  False\n",
       "17   True  False    True   True   True  False\n",
       "18   True   True    True   True   True   True\n",
       "19   True   True    True  False   True   True\n",
       "20   True   True   False   True   True   True\n",
       "21  False  False   False   True  False  False"
      ]
     },
     "execution_count": 41,
     "metadata": {},
     "output_type": "execute_result"
    }
   ],
   "source": [
    "te = TransactionEncoder()\n",
    "te_ary = te.fit(records).transform(records)\n",
    "df1 = pd.DataFrame(te_ary, columns = te.columns_)\n",
    "df1"
   ]
  },
  {
   "cell_type": "markdown",
   "metadata": {},
   "source": [
    "Xây dựng mô hình `Apriori` "
   ]
  },
  {
   "cell_type": "markdown",
   "metadata": {},
   "source": [
    "Kết quả mô hình `Apriori` của `df1` với `minimum_support = 0.6` "
   ]
  },
  {
   "cell_type": "code",
   "execution_count": 42,
   "metadata": {},
   "outputs": [
    {
     "data": {
      "text/html": [
       "<div>\n",
       "<style scoped>\n",
       "    .dataframe tbody tr th:only-of-type {\n",
       "        vertical-align: middle;\n",
       "    }\n",
       "\n",
       "    .dataframe tbody tr th {\n",
       "        vertical-align: top;\n",
       "    }\n",
       "\n",
       "    .dataframe thead th {\n",
       "        text-align: right;\n",
       "    }\n",
       "</style>\n",
       "<table border=\"1\" class=\"dataframe\">\n",
       "  <thead>\n",
       "    <tr style=\"text-align: right;\">\n",
       "      <th></th>\n",
       "      <th>support</th>\n",
       "      <th>itemsets</th>\n",
       "    </tr>\n",
       "  </thead>\n",
       "  <tbody>\n",
       "    <tr>\n",
       "      <th>0</th>\n",
       "      <td>0.681818</td>\n",
       "      <td>(Apple)</td>\n",
       "    </tr>\n",
       "    <tr>\n",
       "      <th>1</th>\n",
       "      <td>0.727273</td>\n",
       "      <td>(Bread)</td>\n",
       "    </tr>\n",
       "    <tr>\n",
       "      <th>2</th>\n",
       "      <td>0.681818</td>\n",
       "      <td>(Butter)</td>\n",
       "    </tr>\n",
       "    <tr>\n",
       "      <th>3</th>\n",
       "      <td>0.636364</td>\n",
       "      <td>(Chips)</td>\n",
       "    </tr>\n",
       "    <tr>\n",
       "      <th>4</th>\n",
       "      <td>0.772727</td>\n",
       "      <td>(Milk)</td>\n",
       "    </tr>\n",
       "    <tr>\n",
       "      <th>5</th>\n",
       "      <td>0.727273</td>\n",
       "      <td>(Wine)</td>\n",
       "    </tr>\n",
       "    <tr>\n",
       "      <th>6</th>\n",
       "      <td>0.636364</td>\n",
       "      <td>(Milk, Wine)</td>\n",
       "    </tr>\n",
       "  </tbody>\n",
       "</table>\n",
       "</div>"
      ],
      "text/plain": [
       "    support      itemsets\n",
       "0  0.681818       (Apple)\n",
       "1  0.727273       (Bread)\n",
       "2  0.681818      (Butter)\n",
       "3  0.636364       (Chips)\n",
       "4  0.772727        (Milk)\n",
       "5  0.727273        (Wine)\n",
       "6  0.636364  (Milk, Wine)"
      ]
     },
     "execution_count": 42,
     "metadata": {},
     "output_type": "execute_result"
    }
   ],
   "source": [
    "frequent_itemsets = apriori(df1, min_support = 0.6, use_colnames = True)\n",
    "frequent_itemsets"
   ]
  },
  {
   "cell_type": "markdown",
   "metadata": {},
   "source": [
    "Luật kết hợp `(Assosication Rules)`"
   ]
  },
  {
   "cell_type": "markdown",
   "metadata": {},
   "source": [
    "Luật kết hợp với `metric = \"support\"`"
   ]
  },
  {
   "cell_type": "code",
   "execution_count": 43,
   "metadata": {},
   "outputs": [
    {
     "name": "stdout",
     "output_type": "stream",
     "text": [
      "  antecedents consequents   support  confidence  lift\n",
      "0      (Milk)      (Wine)  0.636364         NaN   NaN\n",
      "1      (Wine)      (Milk)  0.636364         NaN   NaN\n"
     ]
    }
   ],
   "source": [
    "rules = association_rules(frequent_itemsets, metric = \"support\", support_only = True,\n",
    "                          min_threshold=0.1)\n",
    "rules = rules[['antecedents','consequents','support','confidence','lift']]\n",
    "print(rules)"
   ]
  },
  {
   "cell_type": "markdown",
   "metadata": {},
   "source": [
    "Với `metric = \"confidence\"`"
   ]
  },
  {
   "cell_type": "code",
   "execution_count": 44,
   "metadata": {},
   "outputs": [
    {
     "name": "stdout",
     "output_type": "stream",
     "text": [
      "  antecedents consequents   support  confidence      lift\n",
      "0      (Milk)      (Wine)  0.636364    0.823529  1.132353\n",
      "1      (Wine)      (Milk)  0.636364    0.875000  1.132353\n"
     ]
    }
   ],
   "source": [
    "rules = association_rules(frequent_itemsets, metric = \"confidence\",\n",
    "                          min_threshold=0.1)\n",
    "rules = rules[['antecedents','consequents','support','confidence','lift']]\n",
    "print(rules)"
   ]
  },
  {
   "cell_type": "markdown",
   "metadata": {},
   "source": [
    "### Cài đặt lại thuật toán `Apriori` (không sử dụng thư viện)"
   ]
  },
  {
   "cell_type": "markdown",
   "metadata": {},
   "source": [
    "#### Cơ sở lý thuyết"
   ]
  },
  {
   "cell_type": "markdown",
   "metadata": {},
   "source": [
    "- $C_k$: k-item candidate itemset (tâp ứng viên có k-hạng mục)\n",
    "- $F_k$: k-item frequent itemset (tập hạng mục thường xuyên được lọc ra bởi $C_k$ với `suppport >= minimum_support`)"
   ]
  },
  {
   "cell_type": "markdown",
   "metadata": {},
   "source": [
    "#### Apriori"
   ]
  },
  {
   "cell_type": "markdown",
   "metadata": {},
   "source": [
    "Vì tập $C_1$ (tập ứng viên một hạng mục) là các item duy nhất của itemsets nên ta tạo nó trước"
   ]
  },
  {
   "cell_type": "code",
   "execution_count": 45,
   "metadata": {},
   "outputs": [],
   "source": [
    "def create_candidate_1_itemsets(X):\n",
    "    \"\"\"\n",
    "    Duyệt lần lượt các giao dịch, lấy ra các hạng mục duy nhất thêm vào list c1\n",
    "    \"\"\"\n",
    "\n",
    "    c1 = []\n",
    "    for transaction in X:\n",
    "        for t in transaction:\n",
    "            # frozenset là tập không thay đổi (immutable set) tức nó không cho phép chỉnh sửa, thay đổi hay giá trị lặp\n",
    "            t = frozenset([t])\n",
    "            if t not in c1:\n",
    "                c1.append(t)\n",
    "    return c1"
   ]
  },
  {
   "cell_type": "markdown",
   "metadata": {},
   "source": [
    "Hàm tính $F_k$"
   ]
  },
  {
   "cell_type": "code",
   "execution_count": 46,
   "metadata": {},
   "outputs": [],
   "source": [
    "def create_frequent_itemsets(X, ck, min_support):\n",
    "    \"\"\"\n",
    "    Lọc từ candidate itemset (ck) ra frequent itemset (fk)\n",
    "    với min_support\n",
    "    \"\"\"\n",
    "    # Lặp từng giao dịch và đếm số lần xuất hiện của mỗi hạng mục\n",
    "    item_count = {}\n",
    "    for transaction in X:\n",
    "        for item in ck:\n",
    "            if item.issubset(transaction):\n",
    "                if item not in item_count: \n",
    "                    item_count[item] = 1\n",
    "                else: \n",
    "                    item_count[item] += 1    \n",
    "    \n",
    "    n_row = len(X)\n",
    "    freq_item = []\n",
    "    item_support = {}\n",
    "    \n",
    "    # Nếu support của mỗi hạng mục lớn hơn hoặc bằng\n",
    "    # min_support thì thêm nó vào freq_item (fk)\n",
    "    # Lưu lại support của các hạng mục (để so sánh)\n",
    "    \n",
    "    for item in item_count:\n",
    "        support = item_count[item] / n_row\n",
    "        if support >= min_support:\n",
    "            freq_item.append(item)\n",
    "            \n",
    "        item_support[item] = support\n",
    "        \n",
    "    return freq_item, item_support"
   ]
  },
  {
   "cell_type": "markdown",
   "metadata": {},
   "source": [
    "Hàm tính $C_k$ ($C_1$ tính riêng)"
   ]
  },
  {
   "cell_type": "code",
   "execution_count": 47,
   "metadata": {},
   "outputs": [],
   "source": [
    "# Hàm tính tổ hợp từ tập hợp các phần tử cho trước\n",
    "from itertools import combinations\n",
    "\n",
    "# Hàm tạo k-item candidate itemsets\n",
    "def create_candidate_k_itemsets(freq_item, k):\n",
    "    ck = []\n",
    "    \n",
    "    # Với k = 1, tạo 2-item candidate itemsets (c2)\n",
    "    if k == 1:\n",
    "        for f1, f2 in combinations(freq_item, 2):\n",
    "            item = f1 | f2 # union of two sets\n",
    "            ck.append(item)\n",
    "    # Với k != 1\n",
    "    else:    \n",
    "        for f1, f2 in combinations(freq_item, 2):\n",
    "\n",
    "            # Nếu k-itemset có k - 1 phần tử chung \n",
    "            # sẽ lấy phần hợp của chúng vào k+1-itemset\n",
    "            intersection = f1 & f2\n",
    "            if len(intersection) == k - 1:\n",
    "                item = f1 | f2\n",
    "                if item not in ck:\n",
    "                    ck.append(item)\n",
    "    return ck"
   ]
  },
  {
   "cell_type": "markdown",
   "metadata": {},
   "source": [
    "Từ các hàm con tạo hàm `apriori_from_scratch` tổng hợp với hai tham số \n",
    "- `X` là tập hạng mục (transactions)\n",
    "\n",
    "- `min_support` là suppport tối thiểu"
   ]
  },
  {
   "cell_type": "code",
   "execution_count": 48,
   "metadata": {},
   "outputs": [],
   "source": [
    "def apriori_from_scratch(X, min_support):\n",
    "\n",
    "    # tạo trước 1-item candidate itemsets (c1)\n",
    "    c1 = create_candidate_1_itemsets(X)\n",
    "    # tạo f1 (frequent itemsets) từ c1\n",
    "    freq_item, item_support_dict = create_frequent_itemsets(X, c1, min_support)\n",
    "    # thêm f1 vào freq_items (tập hạng mục thường xuyên)\n",
    "    freq_items = [freq_item]\n",
    "\n",
    "    # lặp từ k = 1\n",
    "    k = 1\n",
    "    while True:\n",
    "        # lấy ra fk từ tập freq_items (ở đây là list nên idx bắt đầu từ 0)\n",
    "        freq_item = freq_items[k-1]\n",
    "        # tính ck+1 từ fk\n",
    "        ck = create_candidate_k_itemsets(freq_item, k)  \n",
    "        # tính fk+1 từ ck+1 và support dict\n",
    "        freq_item, item_support = create_frequent_itemsets(X, ck, min_support)\n",
    "        # nếu fK+1 trống => dừng\n",
    "        # tạo đk dừng ở đây để tránh thêm list rỗng vào freq_items\n",
    "        if len(freq_item) == 0:\n",
    "            break\n",
    "        # thêm fk+1 vào freq_items \n",
    "        freq_items.append(freq_item)\n",
    "        # cập nhật support dict tổng\n",
    "        item_support_dict.update(item_support)\n",
    "        # tăng k lên một tiếp tục lặp\n",
    "        k += 1\n",
    "        \n",
    "    return freq_items, item_support_dict"
   ]
  },
  {
   "cell_type": "markdown",
   "metadata": {},
   "source": [
    "#### So sánh kết quả"
   ]
  },
  {
   "cell_type": "markdown",
   "metadata": {},
   "source": [
    "Chạy `apriori_from_scratch` với `min_support = 0.6` (giống với hàm thư viện) "
   ]
  },
  {
   "cell_type": "code",
   "execution_count": 49,
   "metadata": {},
   "outputs": [
    {
     "data": {
      "text/plain": [
       "[[frozenset({'Wine'}),\n",
       "  frozenset({'Chips'}),\n",
       "  frozenset({'Bread'}),\n",
       "  frozenset({'Butter'}),\n",
       "  frozenset({'Milk'}),\n",
       "  frozenset({'Apple'})],\n",
       " [frozenset({'Milk', 'Wine'})]]"
      ]
     },
     "execution_count": 49,
     "metadata": {},
     "output_type": "execute_result"
    }
   ],
   "source": [
    "freq_items, item_support_dict = apriori_from_scratch(records,0.6)\n",
    "freq_items"
   ]
  },
  {
   "cell_type": "markdown",
   "metadata": {},
   "source": [
    "Kết quả giống"
   ]
  },
  {
   "cell_type": "markdown",
   "metadata": {},
   "source": [
    "Ta thử sort tập `item_suppport_dict` giảm dần ta thấy hàm chỉ lấy khi `min_suppport >= 0.6` => chạy đúng"
   ]
  },
  {
   "cell_type": "code",
   "execution_count": 50,
   "metadata": {},
   "outputs": [
    {
     "data": {
      "text/plain": [
       "{frozenset({'Milk'}): 0.7727272727272727,\n",
       " frozenset({'Wine'}): 0.7272727272727273,\n",
       " frozenset({'Bread'}): 0.7272727272727273,\n",
       " frozenset({'Butter'}): 0.6818181818181818,\n",
       " frozenset({'Apple'}): 0.6818181818181818,\n",
       " frozenset({'Chips'}): 0.6363636363636364,\n",
       " frozenset({'Milk', 'Wine'}): 0.6363636363636364,\n",
       " frozenset({'Bread', 'Wine'}): 0.5909090909090909,\n",
       " frozenset({'Bread', 'Butter'}): 0.5909090909090909,\n",
       " frozenset({'Bread', 'Milk'}): 0.5909090909090909,\n",
       " frozenset({'Butter', 'Milk'}): 0.5909090909090909,\n",
       " frozenset({'Apple', 'Bread'}): 0.5454545454545454,\n",
       " frozenset({'Butter', 'Wine'}): 0.5,\n",
       " frozenset({'Apple', 'Wine'}): 0.5,\n",
       " frozenset({'Apple', 'Butter'}): 0.5,\n",
       " frozenset({'Apple', 'Milk'}): 0.5,\n",
       " frozenset({'Chips', 'Milk'}): 0.45454545454545453,\n",
       " frozenset({'Apple', 'Chips'}): 0.45454545454545453,\n",
       " frozenset({'Chips', 'Wine'}): 0.4090909090909091,\n",
       " frozenset({'Bread', 'Chips'}): 0.4090909090909091,\n",
       " frozenset({'Butter', 'Chips'}): 0.4090909090909091}"
      ]
     },
     "execution_count": 50,
     "metadata": {},
     "output_type": "execute_result"
    }
   ],
   "source": [
    "dict(sorted(item_support_dict.items(), key=lambda item: item[1], reverse=True))"
   ]
  },
  {
   "cell_type": "markdown",
   "metadata": {},
   "source": [
    "Đễ dễ nhìn hơn ta đưa về dataframe"
   ]
  },
  {
   "cell_type": "code",
   "execution_count": 51,
   "metadata": {},
   "outputs": [
    {
     "data": {
      "text/html": [
       "<div>\n",
       "<style scoped>\n",
       "    .dataframe tbody tr th:only-of-type {\n",
       "        vertical-align: middle;\n",
       "    }\n",
       "\n",
       "    .dataframe tbody tr th {\n",
       "        vertical-align: top;\n",
       "    }\n",
       "\n",
       "    .dataframe thead th {\n",
       "        text-align: right;\n",
       "    }\n",
       "</style>\n",
       "<table border=\"1\" class=\"dataframe\">\n",
       "  <thead>\n",
       "    <tr style=\"text-align: right;\">\n",
       "      <th></th>\n",
       "      <th>Itemset</th>\n",
       "      <th>Support</th>\n",
       "    </tr>\n",
       "  </thead>\n",
       "  <tbody>\n",
       "    <tr>\n",
       "      <th>0</th>\n",
       "      <td>(Wine)</td>\n",
       "      <td>0.727273</td>\n",
       "    </tr>\n",
       "    <tr>\n",
       "      <th>1</th>\n",
       "      <td>(Chips)</td>\n",
       "      <td>0.636364</td>\n",
       "    </tr>\n",
       "    <tr>\n",
       "      <th>2</th>\n",
       "      <td>(Bread)</td>\n",
       "      <td>0.727273</td>\n",
       "    </tr>\n",
       "    <tr>\n",
       "      <th>3</th>\n",
       "      <td>(Butter)</td>\n",
       "      <td>0.681818</td>\n",
       "    </tr>\n",
       "    <tr>\n",
       "      <th>4</th>\n",
       "      <td>(Milk)</td>\n",
       "      <td>0.772727</td>\n",
       "    </tr>\n",
       "    <tr>\n",
       "      <th>5</th>\n",
       "      <td>(Apple)</td>\n",
       "      <td>0.681818</td>\n",
       "    </tr>\n",
       "    <tr>\n",
       "      <th>6</th>\n",
       "      <td>(Wine, Milk)</td>\n",
       "      <td>0.636364</td>\n",
       "    </tr>\n",
       "  </tbody>\n",
       "</table>\n",
       "</div>"
      ],
      "text/plain": [
       "        Itemset   Support\n",
       "0        (Wine)  0.727273\n",
       "1       (Chips)  0.636364\n",
       "2       (Bread)  0.727273\n",
       "3      (Butter)  0.681818\n",
       "4        (Milk)  0.772727\n",
       "5       (Apple)  0.681818\n",
       "6  (Wine, Milk)  0.636364"
      ]
     },
     "execution_count": 51,
     "metadata": {},
     "output_type": "execute_result"
    }
   ],
   "source": [
    "def tidy(freq_items,item_support_dict):\n",
    "    supports = []\n",
    "    itemsets = []\n",
    "    for itemset in freq_items:\n",
    "        for set in itemset:            \n",
    "            supports.append(item_support_dict[set])\n",
    "            itemsets.append(set)\n",
    "    return pd.DataFrame({'Itemset': itemsets, 'Support': supports})\n",
    "\n",
    "tidy(freq_items,item_support_dict)"
   ]
  },
  {
   "cell_type": "markdown",
   "metadata": {},
   "source": [
    "## Association Rules"
   ]
  },
  {
   "cell_type": "markdown",
   "metadata": {},
   "source": [
    "Từ `freq_items` và `item_dict_support` trả về từ hàm `apriori` trên ta tạo hàm tính metric chuẩn bị cho hàm tạo luật kết hợp"
   ]
  },
  {
   "cell_type": "markdown",
   "metadata": {},
   "source": [
    "Hàm compute_metric này nhận vào các tham số như sau:\n",
    "\n",
    "`freq_items`: Các tập hạng mục thường xuyên.\n",
    "\n",
    "`item_support_dict`: Từ điển lưu trữ hỗ trợ của từng tập hạng mục.\n",
    "\n",
    "`freq_set`: Tập hạng mục hiện tại cần xem xét để tạo ra các luật.\n",
    "\n",
    "`subsets`: Các phần tử con của freq_set.\n",
    "\n",
    "`min_threshold`: Ngưỡng tối thiểu cho metric được chỉ định.\n",
    "\n",
    "`metric`: Loại metric để đánh giá luật kết hợp (Confidence, Support, Lift)."
   ]
  },
  {
   "cell_type": "code",
   "execution_count": 52,
   "metadata": {},
   "outputs": [],
   "source": [
    "def compute_metric(freq_items, item_support_dict, freq_set, subsets, min_threshold, metric):\n",
    "    \n",
    "    # Trả lỗi nếu metric không hợp lệ\n",
    "    if metric not in (\"confidence\", \"support\", 'lift'):\n",
    "        raise ValueError(\"Invalid metric value\")\n",
    "\n",
    "    rules = []\n",
    "    right_hand_side = []\n",
    "    \n",
    "    for rhs in subsets:\n",
    "        # Tạo phần trái của quy tắc\n",
    "        lhs = freq_set - rhs\n",
    "        \n",
    "        # Kiểm tra xem phần tử hợp nhất của quy tắc có đủ phổ biến không\n",
    "        if lhs in item_support_dict and rhs in item_support_dict:\n",
    "\n",
    "            # Tính các metric\n",
    "            supp = item_support_dict[freq_set]\n",
    "            conf = item_support_dict[freq_set] / item_support_dict[lhs]\n",
    "            lift = conf / item_support_dict[rhs]\n",
    "            # Chọn metric để so sánh với min_threshold\n",
    "            if metric == \"confidence\":\n",
    "                metric_value = conf\n",
    "            elif metric == \"lift\":\n",
    "                metric_value = lift\n",
    "            else:\n",
    "                metric_value = supp\n",
    "            \n",
    "            # Thêm quy tắc vào danh sách nếu metric vượt qua ngưỡng\n",
    "            if metric_value >= min_threshold:\n",
    "                rules_info = lhs, rhs, supp, conf, lift\n",
    "                rules.append(rules_info)\n",
    "                right_hand_side.append(rhs)\n",
    "\n",
    "    return rules, right_hand_side\n"
   ]
  },
  {
   "cell_type": "markdown",
   "metadata": {},
   "source": [
    "Hàm `association_rules_from_scratch` tạo ra luật kết hợp từ đầu (không dùng thư viện)"
   ]
  },
  {
   "cell_type": "markdown",
   "metadata": {},
   "source": [
    "Các tham số lần lượt là `(freq_items, item_supprt_dict)` từ hàm `apriori`, `min_threshold` là ngưỡng giữ lại luật kết hợp tuỳ thuộc vào `metric` cụ thể"
   ]
  },
  {
   "cell_type": "code",
   "execution_count": 53,
   "metadata": {},
   "outputs": [],
   "source": [
    "def association_rules_from_scratch(freq_items, item_support_dict, min_threshold, metric= \"confidence\"):\n",
    "\n",
    "    association_rules = []\n",
    "\n",
    "    # Lặp trong tập hạng mục thường xuyên (freq_items)\n",
    "    # Lặp từ phần tử thứ 2, vì phần từ đầu là c1 chứa các\n",
    "    # hạng mục đơn không thể tạo luật kết hợp\n",
    "\n",
    "    for idx, freq_item in enumerate(freq_items[1:(len(freq_items))]):\n",
    "        for freq_set in freq_item:\n",
    "            \n",
    "            # Tạo luật cho các hạng mục đơn trước\n",
    "            # Tạo tập con không lặp\n",
    "            subsets = [frozenset([item]) for item in freq_set]\n",
    "            # Tính rules (đã qua sàng lọc theo ngưỡng và metric) và tập hạng mục phía phải (consequents)\n",
    "            rules, right_hand_side = compute_metric(freq_items, item_support_dict, \n",
    "                                                     freq_set, subsets, min_threshold, metric)\n",
    "            association_rules.extend(rules)\n",
    "            \n",
    "            # tạo luật từ 3-itemset  trở đi \n",
    "            if idx != 0:\n",
    "                k = 0\n",
    "                while len(right_hand_side[0]) < len(freq_set) - 1:\n",
    "                    ck = create_candidate_k_itemsets(right_hand_side, k = k)\n",
    "                    rules, right_hand_side = compute_metric(freq_items, item_support_dict,\n",
    "                                                             freq_set, ck, min_threshold, metric)\n",
    "                    association_rules.extend(rules)\n",
    "                    k += 1    \n",
    "    \n",
    "    return association_rules"
   ]
  },
  {
   "cell_type": "markdown",
   "metadata": {},
   "source": [
    "Kết quả"
   ]
  },
  {
   "cell_type": "code",
   "execution_count": 54,
   "metadata": {},
   "outputs": [],
   "source": [
    "association_rules = association_rules_from_scratch(freq_items, item_support_dict, min_threshold = 0.1, metric=\"confidence\")"
   ]
  },
  {
   "cell_type": "code",
   "execution_count": 55,
   "metadata": {},
   "outputs": [
    {
     "data": {
      "text/html": [
       "<div>\n",
       "<style scoped>\n",
       "    .dataframe tbody tr th:only-of-type {\n",
       "        vertical-align: middle;\n",
       "    }\n",
       "\n",
       "    .dataframe tbody tr th {\n",
       "        vertical-align: top;\n",
       "    }\n",
       "\n",
       "    .dataframe thead th {\n",
       "        text-align: right;\n",
       "    }\n",
       "</style>\n",
       "<table border=\"1\" class=\"dataframe\">\n",
       "  <thead>\n",
       "    <tr style=\"text-align: right;\">\n",
       "      <th></th>\n",
       "      <th>Antecedents</th>\n",
       "      <th>Consequents</th>\n",
       "      <th>Support</th>\n",
       "      <th>Confidence</th>\n",
       "      <th>Lift</th>\n",
       "    </tr>\n",
       "  </thead>\n",
       "  <tbody>\n",
       "    <tr>\n",
       "      <th>0</th>\n",
       "      <td>(Milk)</td>\n",
       "      <td>(Wine)</td>\n",
       "      <td>0.636364</td>\n",
       "      <td>0.823529</td>\n",
       "      <td>1.132353</td>\n",
       "    </tr>\n",
       "    <tr>\n",
       "      <th>1</th>\n",
       "      <td>(Wine)</td>\n",
       "      <td>(Milk)</td>\n",
       "      <td>0.636364</td>\n",
       "      <td>0.875000</td>\n",
       "      <td>1.132353</td>\n",
       "    </tr>\n",
       "  </tbody>\n",
       "</table>\n",
       "</div>"
      ],
      "text/plain": [
       "  Antecedents  Consequents   Support  Confidence      Lift\n",
       "0       (Milk)      (Wine)  0.636364    0.823529  1.132353\n",
       "1       (Wine)      (Milk)  0.636364    0.875000  1.132353"
      ]
     },
     "execution_count": 55,
     "metadata": {},
     "output_type": "execute_result"
    }
   ],
   "source": [
    "def tidy(list):\n",
    "    return pd.DataFrame(list, columns=['Antecedents ', 'Consequents', 'Support', 'Confidence', 'Lift'])\n",
    "\n",
    "tidy(association_rules)"
   ]
  },
  {
   "cell_type": "markdown",
   "metadata": {},
   "source": [
    "Kết quả giống với thư viện"
   ]
  }
 ],
 "metadata": {
  "kernelspec": {
   "display_name": "Python 3",
   "language": "python",
   "name": "python3"
  },
  "language_info": {
   "codemirror_mode": {
    "name": "ipython",
    "version": 3
   },
   "file_extension": ".py",
   "mimetype": "text/x-python",
   "name": "python",
   "nbconvert_exporter": "python",
   "pygments_lexer": "ipython3",
   "version": "3.12.2"
  }
 },
 "nbformat": 4,
 "nbformat_minor": 2
}
